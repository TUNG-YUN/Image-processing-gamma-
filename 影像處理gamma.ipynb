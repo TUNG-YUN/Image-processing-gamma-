{
 "cells": [
  {
   "cell_type": "markdown",
   "id": "8b6d2579-5815-4e8c-97b9-88bed7114eb9",
   "metadata": {},
   "source": [
    "任意選擇整個資料夾(Originaldataset內訓練資料集內的患有/沒有鼻咽癌影像檔C:\\Users\\Rebecca\\Desktop\\Originaldataset\\train\\NPCnoblacksame208)的整個資料夾進行gamma1.5、gamma1.2、gamma0.8、gamma0.5、gamma0.2擴增"
   ]
  },
  {
   "cell_type": "code",
   "execution_count": 25,
   "id": "71ddf298-e8de-4d49-9b45-eb9ead20c824",
   "metadata": {},
   "outputs": [
    {
     "name": "stdout",
     "output_type": "stream",
     "text": [
      "Selected images gamma corrected and saved to: C:/Users/Rebecca/Desktop/NoNPCgamma0.2\n"
     ]
    }
   ],
   "source": [
    "import os\n",
    "import random\n",
    "import shutil\n",
    "import cv2\n",
    "import numpy as np\n",
    "\n",
    "def gamma_correction(image, gamma):\n",
    "    # 将图像转换为浮点数表示\n",
    "    image = np.array(image, dtype=np.float32) / 255.0\n",
    "    # 对每个像素进行伽马矫正\n",
    "    corrected_image = np.power(image, gamma)\n",
    "    # 将浮点数表示的图像转换为8位无符号整数表示\n",
    "    corrected_image = (corrected_image * 255).astype(np.uint8)\n",
    "    return corrected_image\n",
    "\n",
    "def gamma_correct_images(input_folder, output_folder, num_images_to_select, gamma):\n",
    "    # 確保輸出資料夾存在，不存在則建立\n",
    "    os.makedirs(output_folder, exist_ok=True)\n",
    "\n",
    "    # 獲取輸入資料夾中所有圖片的路徑\n",
    "    image_paths = [os.path.join(input_folder, f) for f in os.listdir(input_folder) if os.path.isfile(os.path.join(input_folder, f))]\n",
    "\n",
    "    # 隨機選取指定數量的圖片\n",
    "    selected_image_paths = random.sample(image_paths, num_images_to_select)\n",
    "\n",
    "    # 對每張選取的圖片進行伽瑪校正並儲存到輸出資料夾中\n",
    "    for image_path in selected_image_paths:\n",
    "        # 讀取圖片\n",
    "        image = cv2.imread(image_path)\n",
    "        \n",
    "        # 进行伽瑪校正\n",
    "        corrected_image = gamma_correction(image, gamma)\n",
    "        \n",
    "        # 儲存校正後的圖片到輸出資料夾中\n",
    "        file_name = os.path.basename(image_path)\n",
    "        output_image_path = os.path.join(output_folder, file_name)\n",
    "        cv2.imwrite(output_image_path, corrected_image)\n",
    "\n",
    "    print(\"Selected images gamma corrected and saved to:\", output_folder)\n",
    "\n",
    "# 指定資料夾路徑\n",
    "input_folder = \"C:/Users/Rebecca/Desktop/Originaldataset/train/noNPCnoblacksame208\"\n",
    "\n",
    "# 每次執行隨機選擇的圖片數量\n",
    "num_images_to_select = 200\n",
    "\n",
    "# 指定新的資料夾路徑\n",
    "output_folder = \"C:/Users/Rebecca/Desktop/NoNPCgamma0.2\"\n",
    "\n",
    "# 设置伽马值\n",
    "gamma = 0.2\n",
    "#gamma = 1.2\n",
    "#gamma = 0.5\n",
    "#gamma = 0.8\n",
    "#gamma = 0.2\n",
    "\n",
    "# 執行伽瑪校正並儲存圖片\n",
    "gamma_correct_images(input_folder, output_folder, num_images_to_select, gamma)"
   ]
  },
  {
   "cell_type": "markdown",
   "id": "6424465e-b0fb-4e55-a4bb-7263c016f94f",
   "metadata": {},
   "source": [
    "以下為beta矯正的，再試看看!!!"
   ]
  },
  {
   "cell_type": "code",
   "execution_count": null,
   "id": "2b50a9a0-c2ab-4f11-90b8-d3a1374f4125",
   "metadata": {},
   "outputs": [],
   "source": [
    "import os\n",
    "import random\n",
    "import shutil\n",
    "import cv2\n",
    "import numpy as np\n",
    "\n",
    "def beta_correction(image, beta):\n",
    "    # 将图像转换为浮点数表示\n",
    "    image = np.array(image, dtype=np.float32) / 255.0\n",
    "    # 应用Beta校正\n",
    "    corrected_image = cv2.add(image, beta)\n",
    "    # 将图像转换为8位无符号整数表示\n",
    "    corrected_image = (corrected_image * 255).astype(np.uint8)\n",
    "    return corrected_image\n",
    "\n",
    "def beta_correct_images(input_folder, output_folder, num_images_to_select, beta):\n",
    "    # 确保输出文件夹存在，不存在则创建\n",
    "    os.makedirs(output_folder, exist_ok=True)\n",
    "\n",
    "    # 获取输入文件夹中所有图像的路径\n",
    "    image_paths = [os.path.join(input_folder, f) for f in os.listdir(input_folder) if os.path.isfile(os.path.join(input_folder, f))]\n",
    "\n",
    "    # 随机选择指定数量的图像\n",
    "    selected_image_paths = random.sample(image_paths, num_images_to_select)\n",
    "\n",
    "    # 对每张选取的图像进行Beta校正并保存到输出文件夹中\n",
    "    for image_path in selected_image_paths:\n",
    "        # 读取图像\n",
    "        image = cv2.imread(image_path)\n",
    "        \n",
    "        # 进行Beta校正\n",
    "        corrected_image = beta_correction(image, beta)\n",
    "        \n",
    "        # 将校正后的图像保存到输出文件夹中\n",
    "        file_name = os.path.basename(image_path)\n",
    "        output_image_path = os.path.join(output_folder, file_name)\n",
    "        cv2.imwrite(output_image_path, corrected_image)\n",
    "\n",
    "    print(\"Selected images beta corrected and saved to:\", output_folder)\n",
    "\n",
    "# 指定输入文件夹路径\n",
    "input_folder = \"C:/Users/Rebecca/Desktop/Originaldataset/train/NPCnoblacksame208\"\n",
    "\n",
    "# 每次执行随机选择的图像数量\n",
    "num_images_to_select = 200\n",
    "\n",
    "# 指定新的输出文件夹路径\n",
    "output_folder = \"C:/Users/Rebecca/Desktop/NPC_beta_corrected_images\"\n",
    "\n",
    "# 设置Beta值\n",
    "beta = 50\n",
    "\n",
    "# 执行Beta校正并保存图像\n",
    "beta_correct_images(input_folder, output_folder, num_images_to_select, beta)"
   ]
  },
  {
   "cell_type": "markdown",
   "id": "731e885e-508e-4df1-87c0-5d6a6f54d13c",
   "metadata": {},
   "source": [
    "查看一個資料夾有幾張圖片"
   ]
  },
  {
   "cell_type": "code",
   "execution_count": 48,
   "id": "9dec256c-956e-43b9-b48b-8188732891cd",
   "metadata": {},
   "outputs": [
    {
     "name": "stdout",
     "output_type": "stream",
     "text": [
      "Total number of images in the folder: 1000\n"
     ]
    }
   ],
   "source": [
    "import os\n",
    "\n",
    "def count_images_in_folder(folder_path):\n",
    "    # 遍历文件夹中的所有文件\n",
    "    file_list = os.listdir(folder_path)\n",
    "    \n",
    "    # 初始化计数器\n",
    "    image_count = 0\n",
    "    \n",
    "    # 对于文件夹中的每个文件\n",
    "    for file_name in file_list:\n",
    "        # 如果文件是图像文件，则增加计数器\n",
    "        if file_name.lower().endswith(('.png', '.jpg', '.jpeg', '.bmp', '.gif')):\n",
    "            image_count += 1\n",
    "    \n",
    "    return image_count\n",
    "\n",
    "# 指定要查看的文件夹路径\n",
    "folder_path = \"C:/Users/Rebecca/Desktop/oneNoNPC1000\"\n",
    "\n",
    "# 调用函数获取图片数量\n",
    "image_count = count_images_in_folder(folder_path)\n",
    "\n",
    "print(\"Total number of images in the folder:\", image_count)"
   ]
  },
  {
   "cell_type": "markdown",
   "id": "eedca27c-eea0-4f01-8ccc-07f50596dfde",
   "metadata": {},
   "source": [
    "把多個資料夾合併成一個"
   ]
  },
  {
   "cell_type": "code",
   "execution_count": 47,
   "id": "4e082528-ff7d-4214-bfaa-be24c2c4ad2f",
   "metadata": {},
   "outputs": [
    {
     "name": "stdout",
     "output_type": "stream",
     "text": [
      "Images merged into: C:/Users/Rebecca/Desktop/oneNoNPC1000\n"
     ]
    }
   ],
   "source": [
    "import os\n",
    "import shutil\n",
    "\n",
    "def merge_folders(input_folders, output_folder):\n",
    "    # 创建输出文件夹\n",
    "    os.makedirs(output_folder, exist_ok=True)\n",
    "    \n",
    "    # 遍历每个输入文件夹\n",
    "    for idx, folder in enumerate(input_folders, start=1):\n",
    "        # 遍历文件夹中的每个文件\n",
    "        for file_name in os.listdir(folder):\n",
    "            file_path = os.path.join(folder, file_name)\n",
    "            output_file_path = os.path.join(output_folder, file_name)\n",
    "            # 如果输出文件夹中已存在同名文件，则重命名并添加后缀\n",
    "            if os.path.exists(output_file_path):\n",
    "                base_name, extension = os.path.splitext(file_name)\n",
    "                new_file_name = f\"{base_name}_{1.5 + 0.3 * idx}{extension}\"\n",
    "                new_file_path = os.path.join(output_folder, new_file_name)\n",
    "                shutil.copy(file_path, new_file_path)\n",
    "            else:\n",
    "                shutil.copy(file_path, output_folder)\n",
    "    \n",
    "    print(\"Images merged into:\", output_folder)\n",
    "\n",
    "# 指定四个输入文件夹的路径\n",
    "input_folders = [\"C:/Users/Rebecca/Desktop/NoNPCgamma1.5\", \"C:/Users/Rebecca/Desktop/NoNPCgamma1.2\", \"C:/Users/Rebecca/Desktop/NoNPCgamma0.8\", \"C:/Users/Rebecca/Desktop/NoNPCgamma0.5\",\"C:/Users/Rebecca/Desktop/NoNPCgamma0.2\"]\n",
    "\n",
    "# 指定输出文件夹的路径\n",
    "output_folder = \"C:/Users/Rebecca/Desktop/oneNoNPC1000\"\n",
    "\n",
    "# 合并四个文件夹中的图片到输出文件夹\n",
    "merge_folders(input_folders, output_folder)"
   ]
  },
  {
   "cell_type": "code",
   "execution_count": null,
   "id": "d0abf044-3d38-4b16-845b-f9fcee639e5a",
   "metadata": {},
   "outputs": [],
   "source": []
  }
 ],
 "metadata": {
  "kernelspec": {
   "display_name": "Python 3 (ipykernel)",
   "language": "python",
   "name": "python3"
  },
  "language_info": {
   "codemirror_mode": {
    "name": "ipython",
    "version": 3
   },
   "file_extension": ".py",
   "mimetype": "text/x-python",
   "name": "python",
   "nbconvert_exporter": "python",
   "pygments_lexer": "ipython3",
   "version": "3.10.13"
  }
 },
 "nbformat": 4,
 "nbformat_minor": 5
}
